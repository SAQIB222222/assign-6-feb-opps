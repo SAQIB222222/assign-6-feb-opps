{
 "cells": [
  {
   "cell_type": "markdown",
   "id": "629ddb76-984d-4b62-819c-ca3f8c48c4ea",
   "metadata": {},
   "source": [
    "Q1"
   ]
  },
  {
   "cell_type": "code",
   "execution_count": 5,
   "id": "720c23aa-b1fd-4f55-9dc3-de24205373b1",
   "metadata": {},
   "outputs": [],
   "source": [
    "def multiply_numbers(lst):\n",
    "    flat_lst = []\n",
    "    for item in lst:\n",
    "        if isinstance(item, (int, float)):\n",
    "            flat_lst.append(item)\n",
    "        elif isinstance(item, (list, tuple, set)):\n",
    "            for sub_item in item:\n",
    "                if isinstance(sub_item, (int, float)):\n",
    "                    flat_lst.append(sub_item)\n",
    "        elif isinstance(item, dict):\n",
    "            for key, value in item.items():\n",
    "                if isinstance(key, (int, float)):\n",
    "                    flat_lst.append(key)\n",
    "                if isinstance(value, (int, float)):\n",
    "                    flat_lst.append(value)\n",
    "    result = 1\n",
    "    for num in flat_lst:\n",
    "        result *= num\n",
    "    return result\n"
   ]
  },
  {
   "cell_type": "code",
   "execution_count": 7,
   "id": "0d850509-d4b0-4d42-980b-bf726e93ab4b",
   "metadata": {},
   "outputs": [
    {
     "name": "stdout",
     "output_type": "stream",
     "text": [
      "0\n"
     ]
    }
   ],
   "source": [
    "list1 = [1,2,3,4, [44,55,66, True], False, (34,56,78,89,34), {1,2,3,3,2,1}, {1:34, \"key2\": [55, 67, 78, 89], 4: (45, 22, 61, 34)}, [56, 'data science'], 'Machine Learning']\n",
    "\n",
    "product = multiply_numbers(list1)\n",
    "print(product)"
   ]
  },
  {
   "cell_type": "markdown",
   "id": "fea70abf-a1ea-481a-abb1-f02389779fb5",
   "metadata": {},
   "source": [
    "Q2"
   ]
  },
  {
   "cell_type": "code",
   "execution_count": 4,
   "id": "8048175b-5f65-458e-831e-099430e35dc5",
   "metadata": {},
   "outputs": [
    {
     "name": "stdout",
     "output_type": "stream",
     "text": [
      "r$dzmg$gl$yvxlnv$z$wzgz$hxrvmgrhg.\n"
     ]
    }
   ],
   "source": [
    "def encrypt_message(message):\n",
    "    message = message.lower()  \n",
    "    encrypted_message = \"\"\n",
    "    for char in message:\n",
    "        if char == \" \":\n",
    "            encrypted_message += \"$\"  \n",
    "        elif char.isalpha():\n",
    "            encrypted_char = chr(219 - ord(char)) \n",
    "            encrypted_message += encrypted_char\n",
    "        else:\n",
    "            encrypted_message += char  \n",
    "    return encrypted_message\n",
    "\n",
    "input_sentence = \"I want to become a Data Scientist.\"\n",
    "encrypted_sentence = encrypt_message(input_sentence)\n",
    "\n",
    "print(encrypted_sentence)  \n"
   ]
  },
  {
   "cell_type": "code",
   "execution_count": null,
   "id": "77c184b2-0117-4e45-969f-9e77721442d1",
   "metadata": {},
   "outputs": [],
   "source": []
  }
 ],
 "metadata": {
  "kernelspec": {
   "display_name": "Python 3 (ipykernel)",
   "language": "python",
   "name": "python3"
  },
  "language_info": {
   "codemirror_mode": {
    "name": "ipython",
    "version": 3
   },
   "file_extension": ".py",
   "mimetype": "text/x-python",
   "name": "python",
   "nbconvert_exporter": "python",
   "pygments_lexer": "ipython3",
   "version": "3.10.8"
  }
 },
 "nbformat": 4,
 "nbformat_minor": 5
}
